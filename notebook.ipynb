{
 "cells": [
  {
   "cell_type": "markdown",
   "metadata": {
    "collapsed": true
   },
   "source": [
    "<center> <img style=\"float:center ; margin: 0px 0px 15px 15px;\" src=\"https://upload.wikimedia.org/wikipedia/commons/8/84/LogodelITESO.jpg\" height=\"100px\" />"
   ]
  },
  {
   "cell_type": "markdown",
   "metadata": {},
   "source": [
    "<center><font color=#555555><font size=6> MAF1731 - Microstructure and Trading Systems </font> <br> <br>\n",
    "    \n",
    "<center><font color=#555555><font size=5> B.Eng Financial Engineering </font> <br> <br> <br> <br>\n",
    "    \n",
    "<center><font color=#555555><font size=4> Sean Nicolás González Vázquez - if720083 </font> <br> <br>\n",
    "    \n",
    "<center><font color=#555555><font size=4>Frida María Hernández López - if720476</font> <br> <br>\n",
    "\n",
    "<center><font color=#555555><font size=4> Dayana Navarro Valencia - if721470</font> <br> <br>\n",
    "\n",
    "<center><font color=#555555><font size=4> Santiago Romero Riggen - if715099 </font> <br> <br>\n",
    "\n",
    "    \n",
    "    \n",
    "   \n",
    "<center> <font color= #555555> <font size = 4> December, 2022 </a> | <font color= #555555> <font size = 4> Repository: <a href='https://github.com/nicoglez/Proyecto_AT_MyST'>Link</a></font>\n",
    "\n",
    "\n",
    "    \n",
    "    "
   ]
  },
  {
   "cell_type": "markdown",
   "metadata": {},
   "source": [
    "<hr style=\"border:0.02in solid gray\"> </hr>"
   ]
  },
  {
   "cell_type": "markdown",
   "metadata": {},
   "source": [
    "<center> <font color= #555555> <font size = 6> ANÁLISIS TÉCNICO </font> <br> <br> <font color= #555555> <font size = 5> PROYECTO FINAL  </font>"
   ]
  },
  {
   "cell_type": "markdown",
   "metadata": {},
   "source": [
    "<hr style=\"border:0.02in solid gray\"> </hr>"
   ]
  },
  {
   "cell_type": "markdown",
   "metadata": {},
   "source": [
    "<font color= #555555> <font size = 4> Abstract </font>"
   ]
  },
  {
   "cell_type": "markdown",
   "metadata": {},
   "source": [
    "El análisis técnico es el estudio en base a gráficos e indicadores, del comportamiento del precio, de valores negociables tales como las acciones, los bonos, entre otros. Además, se emplea para estudiar el comportamiento de los precios de otros tipos de activos que tienen cotización en mercados competitivos, como es el caso de las materias primas, las divisas o los metales preciosos. \n",
    "\n",
    "El objetivo del análisis técnico es identificar patrones en el comportamiento de las cotizaciones para tratar de predecir su comportamiento futuro e identificar el momento oportuno para la compra o la venta.\n",
    "\n",
    "El análisis técnico se lleva a cabo mediante el uso de osciladores e indicadores, así como también de diferentes figuras que indican cambios o continuación de las tendencias de los precios. Focaliza su atención sobre dos las dimensiones de todo mercado: precio y volumen. El volumen negociado se refiere a la cantidad de activos negociados.\n",
    "\n"
   ]
  },
  {
   "cell_type": "markdown",
   "metadata": {},
   "source": [
    "# <font color= #6B6B6B> <font size = 6> 1. Introduction </font>"
   ]
  },
  {
   "cell_type": "markdown",
   "metadata": {},
   "source": [
    "<hr style=\"border:0.02in solid gray\"> </hr>"
   ]
  },
  {
   "cell_type": "markdown",
   "metadata": {},
   "source": [
    "En este proyecto se trabajara con un Análsis Técnico que ayude a generar decisiones de en que momento realizar traiding, este estudio requiere, para su adecuada interpretación, de sólidos conocimientos sobre el funcionamiento de los mercados y los movimientos bursátiles; a la vez que exige cierta disciplina. Es un análisis que tiene componentes que le confieren un alto grado de subjetividad; es decir, la interpretación de los gráficos y las formaciones chartistas es realizada por los analistas muy particularmente. Por lo que cuando se hace trading se utilizan gráficos e indicadores elaborados en base a series de precio y volumen, también el analista puede considerar válida información resultante de las noticias y relativa a eventos de la economía para poder interpretar mejor las \"señales\" que brinda el análisis técnico.\n",
    "\n",
    "Considerando lo anterior las principales fuentes de información para este análisis son:\n",
    "\n",
    "- El Precio\n",
    "\n",
    "- El Volumen negociado\n",
    "\n",
    "Son importantes porque los precios revelan información pasada, presente y hasta futura, las noticias económicas, cambios en el tipo de interés, la inflación e incluso las expectativas influyen en las cotizaciones. Nos encontramos también con que los precios tiene tendencias, alcistas o bajistas y el volumen confirma estas tendencias y uno de los puntos clave en este estufio es que la economía y el precio de los activos se determinan por ciclos los cuales siguen patrones similares en el futuro.\n",
    "\n",
    "Para realizar entonces el análisis técnico se pueden utilizar: Osciladores, tendencias, soportes y resistencias, en este caso se comenzo con el estudio de:\n",
    "\n",
    "- **Oscilador Estocástico** (Stochastic Oscillator) que es una señal que indica al análista que la acción se debe comprar o vender cuando la línea del oscilador estocástico cruza su media móvil. Si corta de forma ascendente nos da una señal de compra y cuando lo cporta de manera descendente nos da una señal de venta.\n",
    "\n",
    "- **Bandas de Bollinger** estas son dos curvas que envuelven al gráfico del precio, si los precios sobrepasen las bandas indica que el mercado está sobrecomprado (si lo hacen por arriba) o sobrevendido (si lo hacen por abajo). Si las bandas se mantiene cercanas son periodos de baja volatilidad y por el contrario si se separan se vuelve un periodo de alta volatilidad.\n",
    "\n",
    "- **Awesome Oscillator** proporciona información sobre la debilidad o fortaleza de una acción, se utiliza para medir el impulso del mercado y afirmar tendencias o anticipar posibles reversiones. Es útil para el análisis técnico porque toma más osciladores de impulso estándar y ajusta el cálculo para fortalecer una debilidad común entre ellos y es un indicador que evalúa si las fuerzas que impulsan el mercado son alcistas o bajistas. Al cruzar de negativo a positivo es una señal alcista, cruzar de positivo a negativo es una señal bajista.\n",
    "\n",
    "Al analizar estos indicadores y estudiar las señales se tomara una decisión de si se compra o se vende y al final se espera tener un rendimiento positivo.\n"
   ]
  },
  {
   "cell_type": "markdown",
   "metadata": {},
   "source": [
    "> # <font color= #6B6B6B> <font size = 6> 1.1 Objetivo </font>"
   ]
  },
  {
   "cell_type": "markdown",
   "metadata": {},
   "source": [
    "<hr style=\"border:0.02in solid gray\"> </hr>"
   ]
  },
  {
   "cell_type": "markdown",
   "metadata": {},
   "source": [
    "Utilizar entre 2 y 4 estudios técnicos como herramientas para la generación de oportunidades de trading, lo que equivale a utilizar análisis técnico para los criterios 1 y sobretodo el 2.\n",
    "\n",
    "> **OBJETIVO GENERAL**\n",
    "\n",
    "> - El objetivo general es elaborar un estudio de análisis técnico que logre que tengamos rendimiento.\n",
    "\n",
    "> **OBEJTIVOS ESPECIFICOS**\n",
    "\n",
    "> - Apoyar con aspectos financieros\n",
    "\n",
    "> - Apoyar con aspectos estadísticos\n",
    "\n",
    "> - Apoyar con aspectos computacionales\n",
    "\n"
   ]
  },
  {
   "cell_type": "markdown",
   "metadata": {},
   "source": [
    "# <font color= #6B6B6B> 2. Install/Load Packages and Depedencies </font>"
   ]
  },
  {
   "cell_type": "markdown",
   "metadata": {},
   "source": [
    "<hr style=\"border:0.02in solid gray\"> </hr>"
   ]
  },
  {
   "cell_type": "markdown",
   "metadata": {},
   "source": [
    "## <font color= #6B6B6B> 2.1 Python Packages </font> <font color= #555555>"
   ]
  },
  {
   "cell_type": "markdown",
   "metadata": {},
   "source": [
    "- jupyter==1.0.0\n",
    "- numpy==1.21.5\n",
    "- pandas==1.1.2\n",
    "- typing==3.7.4.3\n",
    "- plotly==5.10.0\n",
    "- datetime==4.5\n",
    "- MetaTrader5"
   ]
  },
  {
   "cell_type": "markdown",
   "metadata": {},
   "source": [
    "## <font color= #6E6E6E> 2.2 Install Packages</font>"
   ]
  },
  {
   "cell_type": "code",
   "execution_count": null,
   "metadata": {},
   "outputs": [],
   "source": [
    "%%capture\n",
    "\n",
    "# Install all the pip packages in the requirements.txt\n",
    "import sys\n",
    "!{sys.executable} -m pip install -r requirements.txt"
   ]
  },
  {
   "cell_type": "code",
   "execution_count": null,
   "metadata": {},
   "outputs": [],
   "source": [
    "import functions as fn\n",
    "import data as dt\n",
    "import visualizations as vs"
   ]
  },
  {
   "cell_type": "markdown",
   "metadata": {},
   "source": [
    "# <font color= #6B6B6B> 3. Data Description </font>"
   ]
  },
  {
   "cell_type": "markdown",
   "metadata": {},
   "source": [
    "<hr style=\"border:0.02in solid gray\"> </hr>"
   ]
  },
  {
   "cell_type": "markdown",
   "metadata": {},
   "source": [
    "Se utilizaron los datos históricos de la moneda **EUR/USD** descargados del MetaTrader 5 con los siguientes datos:\n",
    "\n",
    "- time\n",
    "- Open \n",
    "- High\n",
    "- low\n",
    "- close\n",
    "- tick_volume\n",
    "- spread\n",
    "- real_volume\n",
    "\n",
    "Capital inicial: $100,000 \n",
    "\n",
    "Riesgo máximo por operación (pérdida máximo): $1,000 usd\n",
    "\n",
    "Divide los datos de la siguiente manera: \n",
    "\n",
    "- Periodo de entrenamiento: 01/ene/2019 - 01/ene/2020 \n",
    "- Periodo de prueba: 01/Feb/2020 - 01/Feb/2021"
   ]
  },
  {
   "cell_type": "markdown",
   "metadata": {},
   "source": [
    "# <font color= #6B6B6B> 3.1. Aspectos Financieros </font>"
   ]
  },
  {
   "cell_type": "markdown",
   "metadata": {},
   "source": [
    "## Sistemas de Traiding\n",
    "\n",
    "\n",
    "Un sistema de trading es un conjunto de tecnicas que le indican al trader cuándo operar, se basan en alguno de los tipos de análisis, ya sea analisis tecnico o fundamental,  estos ayudan a especificar cuándo es el momento más rentable para entrar al mercado, cuándo es el mejor momento para salir, así como también otros aspectos como cuánto debe operar en cada transacción. \n",
    "\n",
    "> En este proyecto se utilizara el **Análisis Técnico** \n",
    "\n",
    "Dos puntos importantes a mencionar es que con este estudio se definirán:\n",
    "\n",
    "**Stop Loss**: Consiste en dejar una orden previamente hecha y que cierra una posición una vez que haya *bajado a un precio específico*.\n",
    "\n",
    "**Take-Profit**: Consiste en dejar una orden previamente hecha y que cierra una posición una vez que el *límite establecido es el monto de ganancia*.\n",
    "\n",
    "### Los indicadores técnicos utilizados:\n",
    "\n",
    "- Awesome Oscillator\n",
    "- Oscilador estocástico\n",
    "- Bandas de Bollinger\n",
    "\n",
    "\n",
    "\n",
    "\n"
   ]
  },
  {
   "cell_type": "markdown",
   "metadata": {},
   "source": [
    "> Datos"
   ]
  },
  {
   "cell_type": "code",
   "execution_count": 2,
   "metadata": {},
   "outputs": [],
   "source": [
    "capital = 100000\n",
    "stop_loss = 0.001\n",
    "take_profit = 0.001\n",
    "currency=\"EURUSD\""
   ]
  },
  {
   "cell_type": "markdown",
   "metadata": {},
   "source": [
    "> Descarga de datos"
   ]
  },
  {
   "cell_type": "code",
   "execution_count": null,
   "metadata": {},
   "outputs": [],
   "source": [
    "dt.data.head()"
   ]
  },
  {
   "cell_type": "markdown",
   "metadata": {},
   "source": [
    "> Separar entre data de entranamiento y prueba"
   ]
  },
  {
   "cell_type": "code",
   "execution_count": null,
   "metadata": {},
   "outputs": [],
   "source": [
    "dt.test_data.head()"
   ]
  },
  {
   "cell_type": "code",
   "execution_count": null,
   "metadata": {},
   "outputs": [],
   "source": [
    "dt.train_data.head()"
   ]
  },
  {
   "cell_type": "markdown",
   "metadata": {},
   "source": [
    "## Visualizaciones"
   ]
  },
  {
   "cell_type": "markdown",
   "metadata": {},
   "source": [
    "> Visualización de los indicadores para la data de prueba"
   ]
  },
  {
   "cell_type": "markdown",
   "metadata": {},
   "source": [
    "* Bandas de Bollinger"
   ]
  },
  {
   "cell_type": "code",
   "execution_count": null,
   "metadata": {},
   "outputs": [],
   "source": [
    "bollinger(dt.test_data)[1]"
   ]
  },
  {
   "cell_type": "markdown",
   "metadata": {},
   "source": [
    "* Stochastic Oscillator"
   ]
  },
  {
   "cell_type": "code",
   "execution_count": null,
   "metadata": {},
   "outputs": [],
   "source": [
    "stochastic(dt.test_data)[1]"
   ]
  },
  {
   "cell_type": "markdown",
   "metadata": {},
   "source": [
    "* Awesome Oscillator"
   ]
  },
  {
   "cell_type": "code",
   "execution_count": null,
   "metadata": {},
   "outputs": [],
   "source": [
    "plot_ao(dt.test_data)"
   ]
  },
  {
   "cell_type": "markdown",
   "metadata": {},
   "source": [
    "> Visualización de los indicadores para la data de entrenamiento"
   ]
  },
  {
   "cell_type": "markdown",
   "metadata": {},
   "source": [
    "* Bandas de Bollinger"
   ]
  },
  {
   "cell_type": "code",
   "execution_count": null,
   "metadata": {},
   "outputs": [],
   "source": [
    "bollinger(dt.train_data)[1]"
   ]
  },
  {
   "cell_type": "markdown",
   "metadata": {},
   "source": [
    "* Stochastic Oscillator"
   ]
  },
  {
   "cell_type": "code",
   "execution_count": null,
   "metadata": {},
   "outputs": [],
   "source": [
    "stochastic(dt.train_data)[1]"
   ]
  },
  {
   "cell_type": "markdown",
   "metadata": {},
   "source": [
    "* Awesome Oscillator"
   ]
  },
  {
   "cell_type": "code",
   "execution_count": null,
   "metadata": {},
   "outputs": [],
   "source": [
    "plot_ao(dt.train_data)"
   ]
  },
  {
   "cell_type": "markdown",
   "metadata": {},
   "source": [
    "> Decisión de compra o venta por indicadores para la data de prueba"
   ]
  },
  {
   "cell_type": "code",
   "execution_count": null,
   "metadata": {},
   "outputs": [],
   "source": [
    "dt.test_dec.head()"
   ]
  },
  {
   "cell_type": "markdown",
   "metadata": {},
   "source": [
    "> Decisión de compra o venta por indicadores para la data de entrenamiento"
   ]
  },
  {
   "cell_type": "code",
   "execution_count": null,
   "metadata": {},
   "outputs": [],
   "source": [
    "dt.train_dec.head()"
   ]
  },
  {
   "cell_type": "markdown",
   "metadata": {},
   "source": [
    "# <font color= #6B6B6B> References </font>"
   ]
  },
  {
   "cell_type": "markdown",
   "metadata": {},
   "source": [
    "https://balanz.com/balanz-university/que-es-el-analisis-tecnico/\n",
    "\n",
    "https://www.nextmarkets.com/es/trading/formacion/sistemas-trading\n",
    "\n",
    "\n",
    "\n"
   ]
  }
 ],
 "metadata": {
  "kernelspec": {
   "display_name": "Python 3",
   "language": "python",
   "name": "python3"
  },
  "language_info": {
   "codemirror_mode": {
    "name": "ipython",
    "version": 3
   },
   "file_extension": ".py",
   "mimetype": "text/x-python",
   "name": "python",
   "nbconvert_exporter": "python",
   "pygments_lexer": "ipython3",
   "version": "3.8.3"
  }
 },
 "nbformat": 4,
 "nbformat_minor": 1
}
